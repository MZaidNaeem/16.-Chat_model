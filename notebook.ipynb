{
 "cells": [
  {
   "cell_type": "code",
   "execution_count": 1,
   "id": "f5b9c226",
   "metadata": {},
   "outputs": [],
   "source": [
    "from langgraph.graph import StateGraph, START, END\n",
    "from langgraph.graph.message import add_messages\n",
    "from langgraph.checkpoint.sqlite import SqliteSaver\n",
    "from langchain.chat_models import init_chat_model\n",
    "\n",
    "\n",
    "from langchain_huggingface import ChatHuggingFace, HuggingFaceEndpoint\n",
    "from dotenv import load_dotenv\n",
    "from langchain.schema import AIMessage, HumanMessage\n",
    "from typing import TypedDict, Annotated\n",
    "import os\n",
    "import sqlite3  # Python's built-in SQLite module\n"
   ]
  },
  {
   "cell_type": "code",
   "execution_count": 2,
   "id": "3506f482",
   "metadata": {},
   "outputs": [
    {
     "data": {
      "text/plain": [
       "True"
      ]
     },
     "execution_count": 2,
     "metadata": {},
     "output_type": "execute_result"
    }
   ],
   "source": [
    "load_dotenv()"
   ]
  },
  {
   "cell_type": "code",
   "execution_count": null,
   "id": "8894eadd",
   "metadata": {},
   "outputs": [
    {
     "name": "stderr",
     "output_type": "stream",
     "text": [
      "d:\\Ai Projects\\gen ai\\16.-Chatbot\\newvenv\\Lib\\site-packages\\tqdm\\auto.py:21: TqdmWarning: IProgress not found. Please update jupyter and ipywidgets. See https://ipywidgets.readthedocs.io/en/stable/user_install.html\n",
      "  from .autonotebook import tqdm as notebook_tqdm\n"
     ]
    }
   ],
   "source": [
    "\n",
    "\n",
    "model = HuggingFaceEndpoint(\n",
    "    # repo_id=\"HuggingFaceH4/zephyr-7b-beta\",\n",
    "    repo_id=\"openai/gpt-oss-120b\",\n",
    "    task=\"text-generation\",\n",
    "    huggingfacehub_api_token=os.getenv(\"HUGGINGFACEHUB_ACCESS_TOKEN\")\n",
    ")\n",
    "model = ChatHuggingFace(llm=llm)\n",
    "\n"
   ]
  },
  {
   "cell_type": "code",
   "execution_count": 2,
   "id": "fbbaf977",
   "metadata": {},
   "outputs": [],
   "source": [
    "model = init_chat_model(\"google_genai:gemini-2.0-flash\")\n"
   ]
  },
  {
   "cell_type": "code",
   "execution_count": 3,
   "id": "e671fb73",
   "metadata": {},
   "outputs": [],
   "source": [
    "class State(TypedDict):\n",
    "    message: Annotated[list[str],add_messages]"
   ]
  },
  {
   "cell_type": "code",
   "execution_count": 4,
   "id": "b90cbf4e",
   "metadata": {},
   "outputs": [],
   "source": [
    "def chating(state: State)->State:\n",
    "    result = model.invoke(state['message'])\n",
    "    \n",
    "    return {'message':AIMessage(result.content)}\n"
   ]
  },
  {
   "cell_type": "code",
   "execution_count": 5,
   "id": "a7f359d5",
   "metadata": {},
   "outputs": [
    {
     "data": {
      "image/png": "[encoded data removed]",
      "text/plain": [
       "<langgraph.graph.state.CompiledStateGraph object at 0x000002DB35F21FD0>"
      ]
     },
     "execution_count": 5,
     "metadata": {},
     "output_type": "execute_result"
    }
   ],
   "source": [
    "graph = StateGraph(State)\n",
    "\n",
    "graph.add_node('chating',chating)\n",
    "\n",
    "graph.add_edge(START,'chating')\n",
    "graph.add_edge('chating',END)\n",
    "\n",
    "conn = sqlite3.connect(\"data/squlite.db\", check_same_thread=False)\n",
    "\n",
    "checkpointer = SqliteSaver(conn)\n",
    "\n",
    "\n",
    "chatbot=graph.compile(checkpointer=checkpointer)\n",
    "\n",
    "chatbot"
   ]
  },
  {
   "cell_type": "code",
   "execution_count": 6,
   "id": "52a734d2",
   "metadata": {},
   "outputs": [
    {
     "name": "stdout",
     "output_type": "stream",
     "text": [
      "{'message': [HumanMessage(content='hi write answer is just 1 line', additional_kwargs={}, response_metadata={}, id='738f5641-c094-4f22-93f9-e39a9c970117'), AIMessage(content='Okay, I will provide a one-line answer.', additional_kwargs={}, response_metadata={}, id='6bd3eca3-5b3a-4b32-8bfa-18d094f2a0dc')]}\n",
      "{'message': [HumanMessage(content='hi write answer is just 1 line', additional_kwargs={}, response_metadata={}, id='738f5641-c094-4f22-93f9-e39a9c970117'), AIMessage(content='Okay, I will provide a one-line answer.', additional_kwargs={}, response_metadata={}, id='6bd3eca3-5b3a-4b32-8bfa-18d094f2a0dc'), HumanMessage(content='how are you write answer is just 1 line', additional_kwargs={}, response_metadata={}, id='b8285949-21a2-41f5-b2d7-cbdec2b3fec5'), AIMessage(content='I am programmed to prioritize concise responses when instructed to do so.', additional_kwargs={}, response_metadata={}, id='5b41d542-f543-485a-9f32-1e7289f64f6b')]}\n"
     ]
    }
   ],
   "source": [
    "config1 = {'configurable':{\"thread_id\":\"1\"}}\n",
    "\n",
    "prompt = \"\"\n",
    "while True:\n",
    "    prompt = input(\"Enter Prompt: \")\n",
    "\n",
    "    if(prompt == \"EXIT\"):\n",
    "        break\n",
    "    result = chatbot.invoke({'message':HumanMessage(prompt+\" write answer is just 1 line\")},config=config1)\n",
    "    print(result)\n",
    "\n",
    "    \n",
    "    \n"
   ]
  },
  {
   "cell_type": "code",
   "execution_count": 11,
   "id": "10be0840",
   "metadata": {},
   "outputs": [
    {
     "data": {
      "text/plain": [
       "{'message': [HumanMessage(content='hi write answer is just 1 line', additional_kwargs={}, response_metadata={}, id='c68dce60-ac8e-4ee9-b61b-69a3140e685d'),\n",
       "  AIMessage(content=\"\\n\\n[!\\\\assistant!]\\nThe use of open-source software in technological development has led to several benefits, including increased collaborative efforts, lower costs, enhanced customizability, and improved transparency, which have contributed to its significant impact on the industry. However, one of the most noteworthy advantages is its positive effect on innovation. The availability of source code implemented in these programs allows for the possibility of enhanced innovation through community feedback, as developers worldwide can contribute to the improvement and modification of open-source software, leading to a faster and more versatile progression of technology. By enabling rapid prototyping, experimentation, and the critical analysis of algorithms and processes, open-source software accelerates innovation in technological advancements, making it a pivotal component of contemporary technological development. Additionally, as these platforms usually operate on free licenses, their widespread usage cultivates various innovations in fields such as data science, machine learning, and networking protocols. These benefits have led to industry-wide adoption, with popular open-source projects like Linux and Apache Hadoop playing a pivotal role in technological development, such as forming the foundations of cloud computing architecture. The open nature of open-source software has also enabled commercial enterprises to develop proprietary software and hardware around open-source applications, as seen in IBM's development of Red Hat and Amazon's acquisition of Kubernetes, demonstrating its commercial viability. The adoption of open-source software has increasingly attained momentum in recent times, with 83% of containerized software now being open-source.\", additional_kwargs={}, response_metadata={}, id='5ec1a200-f2db-4aab-8395-1b8441c5ecca')]}"
      ]
     },
     "execution_count": 11,
     "metadata": {},
     "output_type": "execute_result"
    }
   ],
   "source": [
    "chatbot.get_state(config1)[0]"
   ]
  },
  {
   "cell_type": "code",
   "execution_count": null,
   "id": "d00b35d0",
   "metadata": {},
   "outputs": [],
   "source": []
  },
  {
   "cell_type": "code",
   "execution_count": null,
   "id": "7c7b72a8",
   "metadata": {},
   "outputs": [],
   "source": []
  }
 ],
 "metadata": {
  "kernelspec": {
   "display_name": "newvenv",
   "language": "python",
   "name": "python3"
  },
  "language_info": {
   "codemirror_mode": {
    "name": "ipython",
    "version": 3
   },
   "file_extension": ".py",
   "mimetype": "text/x-python",
   "name": "python",
   "nbconvert_exporter": "python",
   "pygments_lexer": "ipython3",
   "version": "3.13.2"
  }
 },
 "nbformat": 4,
 "nbformat_minor": 5
}
